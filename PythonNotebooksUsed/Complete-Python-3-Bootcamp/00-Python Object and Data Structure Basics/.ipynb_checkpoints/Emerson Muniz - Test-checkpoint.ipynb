{
 "cells": [
  {
   "cell_type": "code",
   "execution_count": 1,
   "id": "2173351a-492f-4f36-806a-f896b7459833",
   "metadata": {},
   "outputs": [
    {
     "data": {
      "text/plain": [
       "4"
      ]
     },
     "execution_count": 1,
     "metadata": {},
     "output_type": "execute_result"
    }
   ],
   "source": [
    "2+2"
   ]
  },
  {
   "cell_type": "code",
   "execution_count": 2,
   "id": "504f2ad4-3483-4be1-8466-b93b041b5751",
   "metadata": {},
   "outputs": [
    {
     "data": {
      "text/plain": [
       "2"
      ]
     },
     "execution_count": 2,
     "metadata": {},
     "output_type": "execute_result"
    }
   ],
   "source": [
    "3-1"
   ]
  },
  {
   "cell_type": "code",
   "execution_count": 3,
   "id": "534370b2-1c7a-4ddd-aa18-b0d76508faec",
   "metadata": {},
   "outputs": [
    {
     "data": {
      "text/plain": [
       "9"
      ]
     },
     "execution_count": 3,
     "metadata": {},
     "output_type": "execute_result"
    }
   ],
   "source": [
    "3*3"
   ]
  },
  {
   "cell_type": "code",
   "execution_count": 4,
   "id": "2b4d2315-ff3b-4a32-8361-764498828db2",
   "metadata": {},
   "outputs": [
    {
     "data": {
      "text/plain": [
       "2.5"
      ]
     },
     "execution_count": 4,
     "metadata": {},
     "output_type": "execute_result"
    }
   ],
   "source": [
    "5/2"
   ]
  },
  {
   "cell_type": "code",
   "execution_count": 5,
   "id": "329a78d5-aebe-4719-b2b5-1e2931bf8143",
   "metadata": {},
   "outputs": [
    {
     "data": {
      "text/plain": [
       "2"
      ]
     },
     "execution_count": 5,
     "metadata": {},
     "output_type": "execute_result"
    }
   ],
   "source": [
    "7//3"
   ]
  },
  {
   "cell_type": "code",
   "execution_count": 6,
   "id": "b9fa4422-7afe-42ac-9c68-7a1ac96452fb",
   "metadata": {},
   "outputs": [
    {
     "data": {
      "text/plain": [
       "1"
      ]
     },
     "execution_count": 6,
     "metadata": {},
     "output_type": "execute_result"
    }
   ],
   "source": [
    "10%3"
   ]
  },
  {
   "cell_type": "code",
   "execution_count": 7,
   "id": "07045519-0485-4f2a-af49-87aa59168449",
   "metadata": {},
   "outputs": [
    {
     "data": {
      "text/plain": [
       "16"
      ]
     },
     "execution_count": 7,
     "metadata": {},
     "output_type": "execute_result"
    }
   ],
   "source": [
    "2**4"
   ]
  },
  {
   "cell_type": "code",
   "execution_count": 8,
   "id": "283f99f2-d8a7-43f3-8f31-923039385f34",
   "metadata": {},
   "outputs": [
    {
     "data": {
      "text/plain": [
       "207"
      ]
     },
     "execution_count": 8,
     "metadata": {},
     "output_type": "execute_result"
    }
   ],
   "source": [
    "2+20*10+5"
   ]
  },
  {
   "cell_type": "code",
   "execution_count": 9,
   "id": "d8f0f2fb-1d4a-4dbc-81c8-d8d43b575005",
   "metadata": {},
   "outputs": [
    {
     "data": {
      "text/plain": [
       "330"
      ]
     },
     "execution_count": 9,
     "metadata": {},
     "output_type": "execute_result"
    }
   ],
   "source": [
    "(2+20) * (10+5)"
   ]
  },
  {
   "cell_type": "code",
   "execution_count": 10,
   "id": "b6692f8f-e285-4ea9-bbce-8051c31cd089",
   "metadata": {},
   "outputs": [],
   "source": [
    "my_sons = 2"
   ]
  },
  {
   "cell_type": "code",
   "execution_count": 11,
   "id": "9a868801-63a5-47fb-a02a-b61a6f51d875",
   "metadata": {},
   "outputs": [
    {
     "data": {
      "text/plain": [
       "2"
      ]
     },
     "execution_count": 11,
     "metadata": {},
     "output_type": "execute_result"
    }
   ],
   "source": [
    "my_sons"
   ]
  },
  {
   "cell_type": "code",
   "execution_count": 12,
   "id": "d62e83f5-6c53-457b-9af1-5212d778ff6e",
   "metadata": {},
   "outputs": [],
   "source": [
    "my_sons = ['Luiz', 'Thiago']"
   ]
  },
  {
   "cell_type": "code",
   "execution_count": 13,
   "id": "a37f2497-9db5-49cc-bbf5-39ea39580bfd",
   "metadata": {},
   "outputs": [
    {
     "data": {
      "text/plain": [
       "['Luiz', 'Thiago']"
      ]
     },
     "execution_count": 13,
     "metadata": {},
     "output_type": "execute_result"
    }
   ],
   "source": [
    "my_sons"
   ]
  },
  {
   "cell_type": "code",
   "execution_count": 14,
   "id": "e0506d5b-7141-4fae-9e2e-7fdd80e7fc15",
   "metadata": {},
   "outputs": [],
   "source": [
    "my_income = 1000"
   ]
  },
  {
   "cell_type": "code",
   "execution_count": 15,
   "id": "5a0175a8-658d-4030-b804-ad313d072c00",
   "metadata": {},
   "outputs": [],
   "source": [
    "tax_rate = 0.1"
   ]
  },
  {
   "cell_type": "code",
   "execution_count": 16,
   "id": "6ffabc12-4c5c-44a4-87e1-6fa0b1c09314",
   "metadata": {},
   "outputs": [],
   "source": [
    "my_taxes = my_income * tax_rate"
   ]
  },
  {
   "cell_type": "code",
   "execution_count": 17,
   "id": "84c49d9b-1d78-4101-8b83-b06ff9511755",
   "metadata": {},
   "outputs": [
    {
     "data": {
      "text/plain": [
       "100.0"
      ]
     },
     "execution_count": 17,
     "metadata": {},
     "output_type": "execute_result"
    }
   ],
   "source": [
    "my_taxes"
   ]
  },
  {
   "cell_type": "code",
   "execution_count": 18,
   "id": "d69a666d-ba83-47b6-9b3d-4e6a6e3289c0",
   "metadata": {},
   "outputs": [],
   "source": [
    "my_age = 51"
   ]
  },
  {
   "cell_type": "code",
   "execution_count": 20,
   "id": "5327e73c-a16c-42d2-806f-9a08df110e73",
   "metadata": {},
   "outputs": [
    {
     "data": {
      "text/plain": [
       "int"
      ]
     },
     "execution_count": 20,
     "metadata": {},
     "output_type": "execute_result"
    }
   ],
   "source": [
    "type( my_age )"
   ]
  },
  {
   "cell_type": "code",
   "execution_count": 22,
   "id": "2fca8a1c-364f-4bef-a4de-568480ca86cf",
   "metadata": {},
   "outputs": [
    {
     "data": {
      "text/plain": [
       "'Emerson'"
      ]
     },
     "execution_count": 22,
     "metadata": {},
     "output_type": "execute_result"
    }
   ],
   "source": [
    "'Emerson'"
   ]
  },
  {
   "cell_type": "code",
   "execution_count": 23,
   "id": "b4c2b8f7-7002-46b0-85d5-e4603e446dca",
   "metadata": {},
   "outputs": [
    {
     "data": {
      "text/plain": [
       "'Emerson Muniz'"
      ]
     },
     "execution_count": 23,
     "metadata": {},
     "output_type": "execute_result"
    }
   ],
   "source": [
    "'Emerson Muniz'"
   ]
  },
  {
   "cell_type": "code",
   "execution_count": 24,
   "id": "89378ed1-c744-44a0-8a79-555e6d82b463",
   "metadata": {},
   "outputs": [
    {
     "data": {
      "text/plain": [
       "'Emerson'"
      ]
     },
     "execution_count": 24,
     "metadata": {},
     "output_type": "execute_result"
    }
   ],
   "source": [
    "\"Emerson\""
   ]
  },
  {
   "cell_type": "code",
   "execution_count": 25,
   "id": "7ca05c1f-91b5-4033-90e2-8648cf4acd86",
   "metadata": {},
   "outputs": [
    {
     "data": {
      "text/plain": [
       "'Emerson Muniz'"
      ]
     },
     "execution_count": 25,
     "metadata": {},
     "output_type": "execute_result"
    }
   ],
   "source": [
    "\"Emerson Muniz\""
   ]
  },
  {
   "cell_type": "code",
   "execution_count": 26,
   "id": "30b1ba1c-fb71-4ab0-8510-7c2a73b47925",
   "metadata": {},
   "outputs": [
    {
     "ename": "SyntaxError",
     "evalue": "unterminated string literal (detected at line 1) (3326375618.py, line 1)",
     "output_type": "error",
     "traceback": [
      "  \u001b[36mCell\u001b[39m\u001b[36m \u001b[39m\u001b[32mIn[26]\u001b[39m\u001b[32m, line 1\u001b[39m\n\u001b[31m    \u001b[39m\u001b[31m'I'm tired'\u001b[39m\n              ^\n\u001b[31mSyntaxError\u001b[39m\u001b[31m:\u001b[39m unterminated string literal (detected at line 1)\n"
     ]
    }
   ],
   "source": [
    "'I'm tired'"
   ]
  },
  {
   "cell_type": "code",
   "execution_count": 27,
   "id": "5218fe27-a69b-40e6-9e45-258e57e845cf",
   "metadata": {},
   "outputs": [
    {
     "data": {
      "text/plain": [
       "\"I'm tired\""
      ]
     },
     "execution_count": 27,
     "metadata": {},
     "output_type": "execute_result"
    }
   ],
   "source": [
    "\"I'm tired\""
   ]
  },
  {
   "cell_type": "code",
   "execution_count": 28,
   "id": "c4f6439e-65b6-47ba-bc3a-5e9ab78d5348",
   "metadata": {},
   "outputs": [
    {
     "name": "stdout",
     "output_type": "stream",
     "text": [
      "Emerson Muniz\n"
     ]
    }
   ],
   "source": [
    "print( 'Emerson Muniz' )"
   ]
  },
  {
   "cell_type": "code",
   "execution_count": 29,
   "id": "8643362a-6234-43be-a846-e05b6d133245",
   "metadata": {},
   "outputs": [
    {
     "name": "stdout",
     "output_type": "stream",
     "text": [
      "Emerson \n",
      " Muniz\n"
     ]
    }
   ],
   "source": [
    "print( \"Emerson \\n Muniz\")"
   ]
  },
  {
   "cell_type": "code",
   "execution_count": 30,
   "id": "0d2e5dbb-ca17-4af7-918c-5605b005c20f",
   "metadata": {},
   "outputs": [
    {
     "data": {
      "text/plain": [
       "13"
      ]
     },
     "execution_count": 30,
     "metadata": {},
     "output_type": "execute_result"
    }
   ],
   "source": [
    "len(\"Emerson Muniz\")"
   ]
  },
  {
   "cell_type": "code",
   "execution_count": 31,
   "id": "daa38740-7267-450f-926d-bb3e9d07d179",
   "metadata": {},
   "outputs": [],
   "source": [
    "s = \"Emerson Muniz\""
   ]
  },
  {
   "cell_type": "code",
   "execution_count": 32,
   "id": "a2d02ae0-6c07-4123-b52f-b17a4cf293fd",
   "metadata": {},
   "outputs": [
    {
     "data": {
      "text/plain": [
       "'E'"
      ]
     },
     "execution_count": 32,
     "metadata": {},
     "output_type": "execute_result"
    }
   ],
   "source": [
    "s[0]"
   ]
  },
  {
   "cell_type": "code",
   "execution_count": 33,
   "id": "7efd4157-9060-4f0a-a56e-305fbfeb9226",
   "metadata": {},
   "outputs": [
    {
     "data": {
      "text/plain": [
       "'e'"
      ]
     },
     "execution_count": 33,
     "metadata": {},
     "output_type": "execute_result"
    }
   ],
   "source": [
    "s[2]"
   ]
  },
  {
   "cell_type": "code",
   "execution_count": 34,
   "id": "4abddb8f-ed36-425b-a513-6577c1369332",
   "metadata": {},
   "outputs": [
    {
     "data": {
      "text/plain": [
       "'merson Muniz'"
      ]
     },
     "execution_count": 34,
     "metadata": {},
     "output_type": "execute_result"
    }
   ],
   "source": [
    "s[1:]"
   ]
  },
  {
   "cell_type": "code",
   "execution_count": 35,
   "id": "809d5c7a-273a-4a4e-960c-d01b81250cac",
   "metadata": {},
   "outputs": [
    {
     "data": {
      "text/plain": [
       "'Eme'"
      ]
     },
     "execution_count": 35,
     "metadata": {},
     "output_type": "execute_result"
    }
   ],
   "source": [
    "s[:3]"
   ]
  },
  {
   "cell_type": "code",
   "execution_count": 36,
   "id": "e61ce679-5a9b-4942-8c6e-d8d1ba4be516",
   "metadata": {},
   "outputs": [
    {
     "data": {
      "text/plain": [
       "'Emerson Muniz'"
      ]
     },
     "execution_count": 36,
     "metadata": {},
     "output_type": "execute_result"
    }
   ],
   "source": [
    "s[:]"
   ]
  },
  {
   "cell_type": "code",
   "execution_count": 37,
   "id": "3bddc6a8-10ae-4518-87cd-090ea03f336e",
   "metadata": {},
   "outputs": [
    {
     "data": {
      "text/plain": [
       "'z'"
      ]
     },
     "execution_count": 37,
     "metadata": {},
     "output_type": "execute_result"
    }
   ],
   "source": [
    "s[-1]"
   ]
  },
  {
   "cell_type": "code",
   "execution_count": 38,
   "id": "4bd72d39-3be1-4d75-a2d7-8bb74b540a36",
   "metadata": {},
   "outputs": [
    {
     "data": {
      "text/plain": [
       "'Emerson Muni'"
      ]
     },
     "execution_count": 38,
     "metadata": {},
     "output_type": "execute_result"
    }
   ],
   "source": [
    "s[:-1]"
   ]
  },
  {
   "cell_type": "code",
   "execution_count": 39,
   "id": "38b93f57-5528-4946-a3da-1260ed6b114d",
   "metadata": {},
   "outputs": [
    {
     "data": {
      "text/plain": [
       "'EesnMnz'"
      ]
     },
     "execution_count": 39,
     "metadata": {},
     "output_type": "execute_result"
    }
   ],
   "source": [
    "s[::2]"
   ]
  },
  {
   "cell_type": "code",
   "execution_count": 40,
   "id": "93440d69-b38a-44c9-9d98-01bb06c490e3",
   "metadata": {},
   "outputs": [
    {
     "data": {
      "text/plain": [
       "'zinuM nosremE'"
      ]
     },
     "execution_count": 40,
     "metadata": {},
     "output_type": "execute_result"
    }
   ],
   "source": [
    "s[::-1]"
   ]
  },
  {
   "cell_type": "code",
   "execution_count": null,
   "id": "38e966c7-09ad-455d-85ba-37a04053992f",
   "metadata": {},
   "outputs": [],
   "source": []
  }
 ],
 "metadata": {
  "kernelspec": {
   "display_name": "Python 3 (ipykernel)",
   "language": "python",
   "name": "python3"
  },
  "language_info": {
   "codemirror_mode": {
    "name": "ipython",
    "version": 3
   },
   "file_extension": ".py",
   "mimetype": "text/x-python",
   "name": "python",
   "nbconvert_exporter": "python",
   "pygments_lexer": "ipython3",
   "version": "3.13.1"
  }
 },
 "nbformat": 4,
 "nbformat_minor": 5
}
