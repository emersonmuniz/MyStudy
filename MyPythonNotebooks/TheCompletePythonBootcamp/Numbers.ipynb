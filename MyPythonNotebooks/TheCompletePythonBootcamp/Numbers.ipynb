{
 "cells": [
  {
   "cell_type": "markdown",
   "id": "672e0ef3-3c81-41a9-b41e-04143cf584da",
   "metadata": {},
   "source": [
    "**Basic Operations**\n",
    "\n",
    "Types: Integer, Float Point"
   ]
  },
  {
   "cell_type": "code",
   "execution_count": 1,
   "id": "a61e9852-5f50-4e15-a6e3-5f75e2f04a11",
   "metadata": {},
   "outputs": [
    {
     "data": {
      "text/plain": [
       "3"
      ]
     },
     "execution_count": 1,
     "metadata": {},
     "output_type": "execute_result"
    }
   ],
   "source": [
    "2 + 1"
   ]
  },
  {
   "cell_type": "code",
   "execution_count": 2,
   "id": "5171dddb-112d-498f-b416-8506ab22c84b",
   "metadata": {},
   "outputs": [
    {
     "data": {
      "text/plain": [
       "1"
      ]
     },
     "execution_count": 2,
     "metadata": {},
     "output_type": "execute_result"
    }
   ],
   "source": [
    "2 - 1"
   ]
  },
  {
   "cell_type": "code",
   "execution_count": 3,
   "id": "12088cdf-e465-45b1-9e64-36e3ada8ff8a",
   "metadata": {},
   "outputs": [
    {
     "data": {
      "text/plain": [
       "4"
      ]
     },
     "execution_count": 3,
     "metadata": {},
     "output_type": "execute_result"
    }
   ],
   "source": [
    "2 * 2"
   ]
  },
  {
   "cell_type": "code",
   "execution_count": 4,
   "id": "4fd287f7-d179-4425-968b-d9c13821faee",
   "metadata": {},
   "outputs": [
    {
     "data": {
      "text/plain": [
       "1.5"
      ]
     },
     "execution_count": 4,
     "metadata": {},
     "output_type": "execute_result"
    }
   ],
   "source": [
    "3 / 2"
   ]
  },
  {
   "cell_type": "markdown",
   "id": "3dc04a8e-7c19-413c-8d61-8ddc098733e9",
   "metadata": {},
   "source": [
    "**Modulor or Mod Operator**"
   ]
  },
  {
   "cell_type": "code",
   "execution_count": 6,
   "id": "16fdeb9f-4f42-4555-888a-90d58c676931",
   "metadata": {},
   "outputs": [
    {
     "data": {
      "text/plain": [
       "1.75"
      ]
     },
     "execution_count": 6,
     "metadata": {},
     "output_type": "execute_result"
    }
   ],
   "source": [
    "7 / 4"
   ]
  },
  {
   "cell_type": "code",
   "execution_count": 7,
   "id": "638b63ed-c195-4f0b-8ae8-59e04a4f4b04",
   "metadata": {},
   "outputs": [
    {
     "data": {
      "text/plain": [
       "3"
      ]
     },
     "execution_count": 7,
     "metadata": {},
     "output_type": "execute_result"
    }
   ],
   "source": [
    "7 % 4"
   ]
  },
  {
   "cell_type": "code",
   "execution_count": 8,
   "id": "47623960-4e7d-4e81-a1cb-dbc599da5009",
   "metadata": {},
   "outputs": [
    {
     "data": {
      "text/plain": [
       "0"
      ]
     },
     "execution_count": 8,
     "metadata": {},
     "output_type": "execute_result"
    }
   ],
   "source": [
    "50 % 5"
   ]
  },
  {
   "cell_type": "code",
   "execution_count": 9,
   "id": "799b6669-8b6d-412e-be4e-8434530ddae6",
   "metadata": {},
   "outputs": [
    {
     "data": {
      "text/plain": [
       "1"
      ]
     },
     "execution_count": 9,
     "metadata": {},
     "output_type": "execute_result"
    }
   ],
   "source": [
    "23 % 2"
   ]
  },
  {
   "cell_type": "code",
   "execution_count": 10,
   "id": "e9c1980e-2178-4c80-8553-2da283e456ca",
   "metadata": {},
   "outputs": [
    {
     "data": {
      "text/plain": [
       "0"
      ]
     },
     "execution_count": 10,
     "metadata": {},
     "output_type": "execute_result"
    }
   ],
   "source": [
    "20 % 2"
   ]
  },
  {
   "cell_type": "code",
   "execution_count": 11,
   "id": "2d7392be-364a-45f8-ac1f-c1859330f066",
   "metadata": {},
   "outputs": [
    {
     "data": {
      "text/plain": [
       "8"
      ]
     },
     "execution_count": 11,
     "metadata": {},
     "output_type": "execute_result"
    }
   ],
   "source": [
    "2 ** 3"
   ]
  },
  {
   "cell_type": "code",
   "execution_count": 12,
   "id": "ec4c3c0e-5d25-4fc5-9c1e-6729d49f8c92",
   "metadata": {},
   "outputs": [
    {
     "data": {
      "text/plain": [
       "105"
      ]
     },
     "execution_count": 12,
     "metadata": {},
     "output_type": "execute_result"
    }
   ],
   "source": [
    "2 + 10 * 10 + 3"
   ]
  },
  {
   "cell_type": "code",
   "execution_count": 13,
   "id": "0523f57f-061c-4d71-8190-6e11d1c180d1",
   "metadata": {},
   "outputs": [
    {
     "data": {
      "text/plain": [
       "156"
      ]
     },
     "execution_count": 13,
     "metadata": {},
     "output_type": "execute_result"
    }
   ],
   "source": [
    "( 2 + 10 ) * ( 10 + 3 )"
   ]
  },
  {
   "cell_type": "code",
   "execution_count": null,
   "id": "20d4c039-3d11-47ef-bcd2-628628a96989",
   "metadata": {},
   "outputs": [],
   "source": []
  }
 ],
 "metadata": {
  "kernelspec": {
   "display_name": "Python 3 (ipykernel)",
   "language": "python",
   "name": "python3"
  },
  "language_info": {
   "codemirror_mode": {
    "name": "ipython",
    "version": 3
   },
   "file_extension": ".py",
   "mimetype": "text/x-python",
   "name": "python",
   "nbconvert_exporter": "python",
   "pygments_lexer": "ipython3",
   "version": "3.13.1"
  }
 },
 "nbformat": 4,
 "nbformat_minor": 5
}
